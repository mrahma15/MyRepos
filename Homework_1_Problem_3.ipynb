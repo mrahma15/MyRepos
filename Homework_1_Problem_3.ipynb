{
  "nbformat": 4,
  "nbformat_minor": 0,
  "metadata": {
    "colab": {
      "name": "Homework_1_Problem_3.ipynb",
      "provenance": [],
      "mount_file_id": "1qEdUKOOrevv1Q9kaTYD__mwSqVrR5PVm",
      "authorship_tag": "ABX9TyP14W6lb+MVi38gB5hlwAHR",
      "include_colab_link": true
    },
    "kernelspec": {
      "name": "python3",
      "display_name": "Python 3"
    },
    "language_info": {
      "name": "python"
    }
  },
  "cells": [
    {
      "cell_type": "markdown",
      "metadata": {
        "id": "view-in-github",
        "colab_type": "text"
      },
      "source": [
        "<a href=\"https://colab.research.google.com/github/mrahma15/MyRepos/blob/main/Homework_1_Problem_3.ipynb\" target=\"_parent\"><img src=\"https://colab.research.google.com/assets/colab-badge.svg\" alt=\"Open In Colab\"/></a>"
      ]
    },
    {
      "cell_type": "code",
      "execution_count": 185,
      "metadata": {
        "id": "gM2c1yYUQzyM"
      },
      "outputs": [],
      "source": [
        "import numpy as np \n",
        "import pandas as pd \n",
        " \n",
        "# Data Visualisation \n",
        "import matplotlib.pyplot as plt "
      ]
    },
    {
      "cell_type": "code",
      "source": [
        "housing = pd.DataFrame(pd.read_csv(\"/content/drive/MyDrive/Google Colab data/Homework 1/Housing.csv\")) \n",
        "housing.head()"
      ],
      "metadata": {
        "colab": {
          "base_uri": "https://localhost:8080/",
          "height": 270
        },
        "id": "oqcPTkq7RaEY",
        "outputId": "53441ea3-05da-4bf7-db36-895e9ed15295"
      },
      "execution_count": 186,
      "outputs": [
        {
          "output_type": "execute_result",
          "data": {
            "text/html": [
              "\n",
              "  <div id=\"df-a3281414-5871-4fa4-b0c5-2c078efdf48b\">\n",
              "    <div class=\"colab-df-container\">\n",
              "      <div>\n",
              "<style scoped>\n",
              "    .dataframe tbody tr th:only-of-type {\n",
              "        vertical-align: middle;\n",
              "    }\n",
              "\n",
              "    .dataframe tbody tr th {\n",
              "        vertical-align: top;\n",
              "    }\n",
              "\n",
              "    .dataframe thead th {\n",
              "        text-align: right;\n",
              "    }\n",
              "</style>\n",
              "<table border=\"1\" class=\"dataframe\">\n",
              "  <thead>\n",
              "    <tr style=\"text-align: right;\">\n",
              "      <th></th>\n",
              "      <th>price</th>\n",
              "      <th>area</th>\n",
              "      <th>bedrooms</th>\n",
              "      <th>bathrooms</th>\n",
              "      <th>stories</th>\n",
              "      <th>mainroad</th>\n",
              "      <th>guestroom</th>\n",
              "      <th>basement</th>\n",
              "      <th>hotwaterheating</th>\n",
              "      <th>airconditioning</th>\n",
              "      <th>parking</th>\n",
              "      <th>prefarea</th>\n",
              "      <th>furnishingstatus</th>\n",
              "    </tr>\n",
              "  </thead>\n",
              "  <tbody>\n",
              "    <tr>\n",
              "      <th>0</th>\n",
              "      <td>13300000</td>\n",
              "      <td>7420</td>\n",
              "      <td>4</td>\n",
              "      <td>2</td>\n",
              "      <td>3</td>\n",
              "      <td>yes</td>\n",
              "      <td>no</td>\n",
              "      <td>no</td>\n",
              "      <td>no</td>\n",
              "      <td>yes</td>\n",
              "      <td>2</td>\n",
              "      <td>yes</td>\n",
              "      <td>furnished</td>\n",
              "    </tr>\n",
              "    <tr>\n",
              "      <th>1</th>\n",
              "      <td>12250000</td>\n",
              "      <td>8960</td>\n",
              "      <td>4</td>\n",
              "      <td>4</td>\n",
              "      <td>4</td>\n",
              "      <td>yes</td>\n",
              "      <td>no</td>\n",
              "      <td>no</td>\n",
              "      <td>no</td>\n",
              "      <td>yes</td>\n",
              "      <td>3</td>\n",
              "      <td>no</td>\n",
              "      <td>furnished</td>\n",
              "    </tr>\n",
              "    <tr>\n",
              "      <th>2</th>\n",
              "      <td>12250000</td>\n",
              "      <td>9960</td>\n",
              "      <td>3</td>\n",
              "      <td>2</td>\n",
              "      <td>2</td>\n",
              "      <td>yes</td>\n",
              "      <td>no</td>\n",
              "      <td>yes</td>\n",
              "      <td>no</td>\n",
              "      <td>no</td>\n",
              "      <td>2</td>\n",
              "      <td>yes</td>\n",
              "      <td>semi-furnished</td>\n",
              "    </tr>\n",
              "    <tr>\n",
              "      <th>3</th>\n",
              "      <td>12215000</td>\n",
              "      <td>7500</td>\n",
              "      <td>4</td>\n",
              "      <td>2</td>\n",
              "      <td>2</td>\n",
              "      <td>yes</td>\n",
              "      <td>no</td>\n",
              "      <td>yes</td>\n",
              "      <td>no</td>\n",
              "      <td>yes</td>\n",
              "      <td>3</td>\n",
              "      <td>yes</td>\n",
              "      <td>furnished</td>\n",
              "    </tr>\n",
              "    <tr>\n",
              "      <th>4</th>\n",
              "      <td>11410000</td>\n",
              "      <td>7420</td>\n",
              "      <td>4</td>\n",
              "      <td>1</td>\n",
              "      <td>2</td>\n",
              "      <td>yes</td>\n",
              "      <td>yes</td>\n",
              "      <td>yes</td>\n",
              "      <td>no</td>\n",
              "      <td>yes</td>\n",
              "      <td>2</td>\n",
              "      <td>no</td>\n",
              "      <td>furnished</td>\n",
              "    </tr>\n",
              "  </tbody>\n",
              "</table>\n",
              "</div>\n",
              "      <button class=\"colab-df-convert\" onclick=\"convertToInteractive('df-a3281414-5871-4fa4-b0c5-2c078efdf48b')\"\n",
              "              title=\"Convert this dataframe to an interactive table.\"\n",
              "              style=\"display:none;\">\n",
              "        \n",
              "  <svg xmlns=\"http://www.w3.org/2000/svg\" height=\"24px\"viewBox=\"0 0 24 24\"\n",
              "       width=\"24px\">\n",
              "    <path d=\"M0 0h24v24H0V0z\" fill=\"none\"/>\n",
              "    <path d=\"M18.56 5.44l.94 2.06.94-2.06 2.06-.94-2.06-.94-.94-2.06-.94 2.06-2.06.94zm-11 1L8.5 8.5l.94-2.06 2.06-.94-2.06-.94L8.5 2.5l-.94 2.06-2.06.94zm10 10l.94 2.06.94-2.06 2.06-.94-2.06-.94-.94-2.06-.94 2.06-2.06.94z\"/><path d=\"M17.41 7.96l-1.37-1.37c-.4-.4-.92-.59-1.43-.59-.52 0-1.04.2-1.43.59L10.3 9.45l-7.72 7.72c-.78.78-.78 2.05 0 2.83L4 21.41c.39.39.9.59 1.41.59.51 0 1.02-.2 1.41-.59l7.78-7.78 2.81-2.81c.8-.78.8-2.07 0-2.86zM5.41 20L4 18.59l7.72-7.72 1.47 1.35L5.41 20z\"/>\n",
              "  </svg>\n",
              "      </button>\n",
              "      \n",
              "  <style>\n",
              "    .colab-df-container {\n",
              "      display:flex;\n",
              "      flex-wrap:wrap;\n",
              "      gap: 12px;\n",
              "    }\n",
              "\n",
              "    .colab-df-convert {\n",
              "      background-color: #E8F0FE;\n",
              "      border: none;\n",
              "      border-radius: 50%;\n",
              "      cursor: pointer;\n",
              "      display: none;\n",
              "      fill: #1967D2;\n",
              "      height: 32px;\n",
              "      padding: 0 0 0 0;\n",
              "      width: 32px;\n",
              "    }\n",
              "\n",
              "    .colab-df-convert:hover {\n",
              "      background-color: #E2EBFA;\n",
              "      box-shadow: 0px 1px 2px rgba(60, 64, 67, 0.3), 0px 1px 3px 1px rgba(60, 64, 67, 0.15);\n",
              "      fill: #174EA6;\n",
              "    }\n",
              "\n",
              "    [theme=dark] .colab-df-convert {\n",
              "      background-color: #3B4455;\n",
              "      fill: #D2E3FC;\n",
              "    }\n",
              "\n",
              "    [theme=dark] .colab-df-convert:hover {\n",
              "      background-color: #434B5C;\n",
              "      box-shadow: 0px 1px 3px 1px rgba(0, 0, 0, 0.15);\n",
              "      filter: drop-shadow(0px 1px 2px rgba(0, 0, 0, 0.3));\n",
              "      fill: #FFFFFF;\n",
              "    }\n",
              "  </style>\n",
              "\n",
              "      <script>\n",
              "        const buttonEl =\n",
              "          document.querySelector('#df-a3281414-5871-4fa4-b0c5-2c078efdf48b button.colab-df-convert');\n",
              "        buttonEl.style.display =\n",
              "          google.colab.kernel.accessAllowed ? 'block' : 'none';\n",
              "\n",
              "        async function convertToInteractive(key) {\n",
              "          const element = document.querySelector('#df-a3281414-5871-4fa4-b0c5-2c078efdf48b');\n",
              "          const dataTable =\n",
              "            await google.colab.kernel.invokeFunction('convertToInteractive',\n",
              "                                                     [key], {});\n",
              "          if (!dataTable) return;\n",
              "\n",
              "          const docLinkHtml = 'Like what you see? Visit the ' +\n",
              "            '<a target=\"_blank\" href=https://colab.research.google.com/notebooks/data_table.ipynb>data table notebook</a>'\n",
              "            + ' to learn more about interactive tables.';\n",
              "          element.innerHTML = '';\n",
              "          dataTable['output_type'] = 'display_data';\n",
              "          await google.colab.output.renderOutput(dataTable, element);\n",
              "          const docLink = document.createElement('div');\n",
              "          docLink.innerHTML = docLinkHtml;\n",
              "          element.appendChild(docLink);\n",
              "        }\n",
              "      </script>\n",
              "    </div>\n",
              "  </div>\n",
              "  "
            ],
            "text/plain": [
              "      price  area  bedrooms  ...  parking  prefarea furnishingstatus\n",
              "0  13300000  7420         4  ...        2       yes        furnished\n",
              "1  12250000  8960         4  ...        3        no        furnished\n",
              "2  12250000  9960         3  ...        2       yes   semi-furnished\n",
              "3  12215000  7500         4  ...        3       yes        furnished\n",
              "4  11410000  7420         4  ...        2        no        furnished\n",
              "\n",
              "[5 rows x 13 columns]"
            ]
          },
          "metadata": {},
          "execution_count": 186
        }
      ]
    },
    {
      "cell_type": "code",
      "source": [
        "m = len(housing) \n",
        "m "
      ],
      "metadata": {
        "colab": {
          "base_uri": "https://localhost:8080/"
        },
        "id": "Y6XyaB7-R-wH",
        "outputId": "4c7354ba-8732-4b8e-a6ef-ed9e749a1882"
      },
      "execution_count": 187,
      "outputs": [
        {
          "output_type": "execute_result",
          "data": {
            "text/plain": [
              "545"
            ]
          },
          "metadata": {},
          "execution_count": 187
        }
      ]
    },
    {
      "cell_type": "code",
      "source": [
        "housing.shape "
      ],
      "metadata": {
        "colab": {
          "base_uri": "https://localhost:8080/"
        },
        "id": "ZqvNZkhVSCRM",
        "outputId": "54e2cc33-a38e-470b-9109-17a5c07955cd"
      },
      "execution_count": 188,
      "outputs": [
        {
          "output_type": "execute_result",
          "data": {
            "text/plain": [
              "(545, 13)"
            ]
          },
          "metadata": {},
          "execution_count": 188
        }
      ]
    },
    {
      "cell_type": "code",
      "source": [
        "num_vars = ['area', 'bedrooms', 'bathrooms', 'stories', 'parking','price'] \n",
        "Newtrain = housing[num_vars] \n",
        "Newtrain.head() "
      ],
      "metadata": {
        "colab": {
          "base_uri": "https://localhost:8080/",
          "height": 206
        },
        "id": "xaNnx89HSFer",
        "outputId": "56772546-7433-47e0-d0a8-c30a0924e9ba"
      },
      "execution_count": 189,
      "outputs": [
        {
          "output_type": "execute_result",
          "data": {
            "text/html": [
              "\n",
              "  <div id=\"df-6e791bf8-49bf-4251-8154-92451a3a46ca\">\n",
              "    <div class=\"colab-df-container\">\n",
              "      <div>\n",
              "<style scoped>\n",
              "    .dataframe tbody tr th:only-of-type {\n",
              "        vertical-align: middle;\n",
              "    }\n",
              "\n",
              "    .dataframe tbody tr th {\n",
              "        vertical-align: top;\n",
              "    }\n",
              "\n",
              "    .dataframe thead th {\n",
              "        text-align: right;\n",
              "    }\n",
              "</style>\n",
              "<table border=\"1\" class=\"dataframe\">\n",
              "  <thead>\n",
              "    <tr style=\"text-align: right;\">\n",
              "      <th></th>\n",
              "      <th>area</th>\n",
              "      <th>bedrooms</th>\n",
              "      <th>bathrooms</th>\n",
              "      <th>stories</th>\n",
              "      <th>parking</th>\n",
              "      <th>price</th>\n",
              "    </tr>\n",
              "  </thead>\n",
              "  <tbody>\n",
              "    <tr>\n",
              "      <th>0</th>\n",
              "      <td>7420</td>\n",
              "      <td>4</td>\n",
              "      <td>2</td>\n",
              "      <td>3</td>\n",
              "      <td>2</td>\n",
              "      <td>13300000</td>\n",
              "    </tr>\n",
              "    <tr>\n",
              "      <th>1</th>\n",
              "      <td>8960</td>\n",
              "      <td>4</td>\n",
              "      <td>4</td>\n",
              "      <td>4</td>\n",
              "      <td>3</td>\n",
              "      <td>12250000</td>\n",
              "    </tr>\n",
              "    <tr>\n",
              "      <th>2</th>\n",
              "      <td>9960</td>\n",
              "      <td>3</td>\n",
              "      <td>2</td>\n",
              "      <td>2</td>\n",
              "      <td>2</td>\n",
              "      <td>12250000</td>\n",
              "    </tr>\n",
              "    <tr>\n",
              "      <th>3</th>\n",
              "      <td>7500</td>\n",
              "      <td>4</td>\n",
              "      <td>2</td>\n",
              "      <td>2</td>\n",
              "      <td>3</td>\n",
              "      <td>12215000</td>\n",
              "    </tr>\n",
              "    <tr>\n",
              "      <th>4</th>\n",
              "      <td>7420</td>\n",
              "      <td>4</td>\n",
              "      <td>1</td>\n",
              "      <td>2</td>\n",
              "      <td>2</td>\n",
              "      <td>11410000</td>\n",
              "    </tr>\n",
              "  </tbody>\n",
              "</table>\n",
              "</div>\n",
              "      <button class=\"colab-df-convert\" onclick=\"convertToInteractive('df-6e791bf8-49bf-4251-8154-92451a3a46ca')\"\n",
              "              title=\"Convert this dataframe to an interactive table.\"\n",
              "              style=\"display:none;\">\n",
              "        \n",
              "  <svg xmlns=\"http://www.w3.org/2000/svg\" height=\"24px\"viewBox=\"0 0 24 24\"\n",
              "       width=\"24px\">\n",
              "    <path d=\"M0 0h24v24H0V0z\" fill=\"none\"/>\n",
              "    <path d=\"M18.56 5.44l.94 2.06.94-2.06 2.06-.94-2.06-.94-.94-2.06-.94 2.06-2.06.94zm-11 1L8.5 8.5l.94-2.06 2.06-.94-2.06-.94L8.5 2.5l-.94 2.06-2.06.94zm10 10l.94 2.06.94-2.06 2.06-.94-2.06-.94-.94-2.06-.94 2.06-2.06.94z\"/><path d=\"M17.41 7.96l-1.37-1.37c-.4-.4-.92-.59-1.43-.59-.52 0-1.04.2-1.43.59L10.3 9.45l-7.72 7.72c-.78.78-.78 2.05 0 2.83L4 21.41c.39.39.9.59 1.41.59.51 0 1.02-.2 1.41-.59l7.78-7.78 2.81-2.81c.8-.78.8-2.07 0-2.86zM5.41 20L4 18.59l7.72-7.72 1.47 1.35L5.41 20z\"/>\n",
              "  </svg>\n",
              "      </button>\n",
              "      \n",
              "  <style>\n",
              "    .colab-df-container {\n",
              "      display:flex;\n",
              "      flex-wrap:wrap;\n",
              "      gap: 12px;\n",
              "    }\n",
              "\n",
              "    .colab-df-convert {\n",
              "      background-color: #E8F0FE;\n",
              "      border: none;\n",
              "      border-radius: 50%;\n",
              "      cursor: pointer;\n",
              "      display: none;\n",
              "      fill: #1967D2;\n",
              "      height: 32px;\n",
              "      padding: 0 0 0 0;\n",
              "      width: 32px;\n",
              "    }\n",
              "\n",
              "    .colab-df-convert:hover {\n",
              "      background-color: #E2EBFA;\n",
              "      box-shadow: 0px 1px 2px rgba(60, 64, 67, 0.3), 0px 1px 3px 1px rgba(60, 64, 67, 0.15);\n",
              "      fill: #174EA6;\n",
              "    }\n",
              "\n",
              "    [theme=dark] .colab-df-convert {\n",
              "      background-color: #3B4455;\n",
              "      fill: #D2E3FC;\n",
              "    }\n",
              "\n",
              "    [theme=dark] .colab-df-convert:hover {\n",
              "      background-color: #434B5C;\n",
              "      box-shadow: 0px 1px 3px 1px rgba(0, 0, 0, 0.15);\n",
              "      filter: drop-shadow(0px 1px 2px rgba(0, 0, 0, 0.3));\n",
              "      fill: #FFFFFF;\n",
              "    }\n",
              "  </style>\n",
              "\n",
              "      <script>\n",
              "        const buttonEl =\n",
              "          document.querySelector('#df-6e791bf8-49bf-4251-8154-92451a3a46ca button.colab-df-convert');\n",
              "        buttonEl.style.display =\n",
              "          google.colab.kernel.accessAllowed ? 'block' : 'none';\n",
              "\n",
              "        async function convertToInteractive(key) {\n",
              "          const element = document.querySelector('#df-6e791bf8-49bf-4251-8154-92451a3a46ca');\n",
              "          const dataTable =\n",
              "            await google.colab.kernel.invokeFunction('convertToInteractive',\n",
              "                                                     [key], {});\n",
              "          if (!dataTable) return;\n",
              "\n",
              "          const docLinkHtml = 'Like what you see? Visit the ' +\n",
              "            '<a target=\"_blank\" href=https://colab.research.google.com/notebooks/data_table.ipynb>data table notebook</a>'\n",
              "            + ' to learn more about interactive tables.';\n",
              "          element.innerHTML = '';\n",
              "          dataTable['output_type'] = 'display_data';\n",
              "          await google.colab.output.renderOutput(dataTable, element);\n",
              "          const docLink = document.createElement('div');\n",
              "          docLink.innerHTML = docLinkHtml;\n",
              "          element.appendChild(docLink);\n",
              "        }\n",
              "      </script>\n",
              "    </div>\n",
              "  </div>\n",
              "  "
            ],
            "text/plain": [
              "   area  bedrooms  bathrooms  stories  parking     price\n",
              "0  7420         4          2        3        2  13300000\n",
              "1  8960         4          4        4        3  12250000\n",
              "2  9960         3          2        2        2  12250000\n",
              "3  7500         4          2        2        3  12215000\n",
              "4  7420         4          1        2        2  11410000"
            ]
          },
          "metadata": {},
          "execution_count": 189
        }
      ]
    },
    {
      "cell_type": "code",
      "source": [
        "X1 = Newtrain.values[:, 0]               \n",
        "X2 = Newtrain.values[:, 1]                \n",
        "X3 = Newtrain.values[:, 2]                \n",
        "X4 = Newtrain.values[:, 3]               \n",
        "X5 = Newtrain.values[:, 4] \n",
        "Y = Newtrain.values[:, 5]\n",
        "\n",
        "print('X1 = ', X1[: 5]) \n",
        "print('X2 = ', X2[: 5])\n",
        "print('X3 = ', X3[: 5])\n",
        "print('X4 = ', X4[: 5])\n",
        "print('X5 = ', X5[: 5])\n",
        "print('Y = ', Y[: 5])"
      ],
      "metadata": {
        "colab": {
          "base_uri": "https://localhost:8080/"
        },
        "id": "260uRG0sSH-B",
        "outputId": "0921ffc3-3989-4874-9ce6-1c22f87f949c"
      },
      "execution_count": 190,
      "outputs": [
        {
          "output_type": "stream",
          "name": "stdout",
          "text": [
            "X1 =  [7420 8960 9960 7500 7420]\n",
            "X2 =  [4 4 3 4 4]\n",
            "X3 =  [2 4 2 2 1]\n",
            "X4 =  [3 4 2 2 2]\n",
            "X5 =  [2 3 2 3 2]\n",
            "Y =  [13300000 12250000 12250000 12215000 11410000]\n"
          ]
        }
      ]
    },
    {
      "cell_type": "code",
      "source": [
        "import torch\n",
        "torch.set_printoptions(edgeitems=2, linewidth=75)"
      ],
      "metadata": {
        "id": "2cWh9U0ETipQ"
      },
      "execution_count": 191,
      "outputs": []
    },
    {
      "cell_type": "code",
      "source": [
        "X1 = torch.tensor(X1)\n",
        "X2 = torch.tensor(X2)\n",
        "X3 = torch.tensor(X3)\n",
        "X4 = torch.tensor(X4)\n",
        "X5 = torch.tensor(X5)\n",
        "Y = torch.tensor(Y)"
      ],
      "metadata": {
        "id": "qnliTzZtXLef"
      },
      "execution_count": 192,
      "outputs": []
    },
    {
      "cell_type": "code",
      "source": [
        "def model(X1, X2, X3, X4, X5, w1, w2, w3, w4, w5, b):\n",
        "  return w5*X5 + w4*X4 + w3*X3 + w2*X2 + w1*X1 + b"
      ],
      "metadata": {
        "id": "Eh9dd-LyTs7c"
      },
      "execution_count": 193,
      "outputs": []
    },
    {
      "cell_type": "code",
      "source": [
        "def loss_fn(Y_p, Y):\n",
        "    squared_diffs = (Y_p - Y)**2\n",
        "    return squared_diffs.mean()"
      ],
      "metadata": {
        "id": "muown4kaT_cp"
      },
      "execution_count": 194,
      "outputs": []
    },
    {
      "cell_type": "code",
      "source": [
        "w1 = torch.ones(())\n",
        "w2 = torch.ones(())\n",
        "w3 = torch.ones(())\n",
        "w4 = torch.ones(())\n",
        "w5 = torch.ones(())\n",
        "b = torch.zeros(())\n",
        "\n",
        "#t_p = model(t_u, w, b)\n",
        "Y_p = model(X1, X2, X3, X4, X5, w1, w2, w3, w4, w5, b)\n",
        "Y_p"
      ],
      "metadata": {
        "colab": {
          "base_uri": "https://localhost:8080/"
        },
        "id": "Pc8z1-6RUkdp",
        "outputId": "3dc89c30-4f2b-4b71-d48e-12bed19bbf3f"
      },
      "execution_count": 195,
      "outputs": [
        {
          "output_type": "execute_result",
          "data": {
            "text/plain": [
              "tensor([ 7431.,  8975.,  9969.,  7511.,  7429.,  7509.,  8593., 16210.,\n",
              "         8109.,  5760., 13208.,  6011.,  6559.,  3510.,  7807.,  6009.,\n",
              "         6609.,  8511.,  4609.,  6428.,  4328.,  7163.,  8056.,  4568.,\n",
              "         8809.,  6550.,  6009.,  8881.,  7961.,  5509.,  7486.,  7010.,\n",
              "         4889.,  5969.,  6849.,  7011.,  7491.,  9012.,  6010.,  6011.,\n",
              "         6556.,  6369.,  6491.,  6012.,  6011.,  6008.,  6010.,  6611.,\n",
              "         4308.,  7446.,  7450.,  6334.,  6011.,  5161.,  6008.,  6007.,\n",
              "        11448.,  9011.,  7691.,  6010.,  6008.,  8885.,  6249.,  6371.,\n",
              "        11181.,  8888., 13205.,  7708.,  6006., 12100.,  4007.,  6010.,\n",
              "         5028.,  6608.,  4047.,  4268.,  6428.,  6508.,  5707.,  6008.,\n",
              "         6007.,  4008., 10507.,  6009.,  3768.,  8258.,  6677.,  3967.,\n",
              "         7417.,  8592.,  5006.,  6756.,  4809.,  7209.,  6011.,  4110.,\n",
              "         9006.,  6406.,  6608.,  6008.,  6606.,  5508.,  5510.,  6358.,\n",
              "         5508.,  4508.,  5457.,  6427.,  3249.,  6624.,  6607.,  8381.,\n",
              "         4310.,  9627.,  6806.,  8007.,  6906.,  3707.,  6425.,  7027.,\n",
              "         6547.,  7237.,  6262.,  7328.,  6535., 15607.,  7167.,  6508.,\n",
              "         5508., 11469.,  4805.,  5837.,  5207.,  4807.,  7007.,  6009.,\n",
              "         5410.,  4648.,  5007.,  6367.,  5809.,  6669., 10509.,  4810.,\n",
              "         4708.,  5008., 10505.,  5508.,  6367.,  6607.,  5142.,  4409.,\n",
              "         5408.,  3308.,  3659.,  6108.,  6905.,  2826.,  7987.,  3156.,\n",
              "         6219.,  6107.,  6608.,  6830.,  6718.,  6456.,  7807.,  4607.,\n",
              "         4267.,  6548.,  5506., 10275.,  8408.,  5307.,  3807.,  9810.,\n",
              "         8527.,  6055.,  7092.,  3189.,  4509.,  7207.,  3416.,  7986.,\n",
              "         3007.,  3006., 11415.,  6105.,  5725.,  3544.,  7609., 10706.,\n",
              "         6605.,  4804.,  8156.,  4421.,  7691.,  2808.,  5954.,  4207.,\n",
              "         4526.,  4101.,  4125.,  5407.,  4775.,  6307.,  5804.,  3006.,\n",
              "         2977.,  6725.,  4654., 12907.,  3430.,  5002.,  4354.,  4167.,\n",
              "         6047.,  6870.,  4819.,  7006.,  8111.,  3428.,  9172.,  6328.,\n",
              "        10246.,  6447.,  5178.,  6005.,  3638.,  9676.,  5405.,  4325.,\n",
              "         3751.,  4165.,  3889.,  5687.,  2875.,  5016.,  4518.,  4007.,\n",
              "         3847.,  3767.,  3646.,  2556.,  5326.,  5368.,  3525.,  8412.,\n",
              "         4105.,  4998.,  3517.,  3457.,  9865.,  3525.,  4519.,  5890.,\n",
              "         4008.,  8255.,  4047.,  6365.,  3169.,  3516.,  3754.,  3974.,\n",
              "         4905.,  2886.,  4887.,  4927.,  4957.,  3906.,  4509.,  1913.,\n",
              "         4082.,  3509.,  6457.,  4036.,  4405., 10365.,  3408.,  6364.,\n",
              "         6365.,  4506.,  2181.,  4367.,  7775.,  6656.,  2792.,  5506.,\n",
              "         5046.,  5856.,  2619.,  2959.,  2755.,  4415.,  4008.,  2331.,\n",
              "         4608.,  3647.,  5807.,  7008.,  4086.,  3526.,  2153.,  4505.,\n",
              "         8258.,  3457.,  4847.,  4088.,  4053.,  4639.,  5990.,  6065.,\n",
              "         3605.,  3687.,  4046.,  5604.,  5909.,  5001.,  4345.,  3010.,\n",
              "         4328.,  3639.,  3467.,  5408.,  4506.,  3467.,  4106.,  6487.,\n",
              "         4507.,  3966.,  4055.,  7269.,  5507.,  3006.,  3295.,  3822.,\n",
              "         8087.,  2152.,  3785.,  3188.,  5309.,  3187.,  7158.,  4084.,\n",
              "         3854.,  2021.,  2181.,  3356.,  3155.,  4826.,  3426.,  3604.,\n",
              "         5836.,  2863.,  8405.,  8257.,  2529.,  6938.,  3484.,  3606.,\n",
              "         4044.,  6025.,  4054.,  3588.,  3126.,  5454.,  3634.,  3634.,\n",
              "         5644.,  3604.,  4286.,  3576.,  3186.,  3005.,  3525.,  5966.,\n",
              "         4139.,  2857.,  2282.,  3527.,  4504.,  4004.,  3156.,  4510.,\n",
              "         4504.,  3644.,  3857.,  4246.,  3656.,  4607.,  2142.,  3042.,\n",
              "         3996.,  7429.,  3485.,  3610.,  3645.,  5905.,  3127.,  7355.,\n",
              "         3517.,  9509.,  5884., 12949.,  4906.,  3065.,  5325.,  2152.,\n",
              "         4004.,  3191.,  3855.,  2152.,  2616.,  1957.,  4044.,  4792.,\n",
              "         3457.,  3644.,  3509.,  4968.,  4125.,  4754.,  3724.,  3755.,\n",
              "         3106.,  3191.,  2705.,  2151.,  4045.,  4782.,  2504.,  3187.,\n",
              "         6065.,  3488.,  3799.,  4044.,  2151.,  5886.,  4504.,  3934.,\n",
              "         3647.,  4376.,  2689.,  4326.,  3126.,  3453.,  3992.,  3504.,\n",
              "         4101.,  1656.,  3456.,  6754.,  9008.,  3074.,  4506.,  5500.,\n",
              "         2403.,  3005.,  3856.,  3504.,  8105.,  4964.,  2166.,  3094.,\n",
              "         4506.,  3804.,  3096.,  3248.,  2839.,  4604.,  5081.,  3756.,\n",
              "         3640.,  8054.,  4360.,  3005.,  5857.,  4964.,  3607.,  3667.,\n",
              "         3487.,  2704.,  3156.,  6621.,  3044.,  3634.,  6004.,  5407.,\n",
              "         5208.,  3307.,  4357.,  2645.,  2657.,  3965.,  6804.,  4007.,\n",
              "         4004.,  3938.,  2005.,  3638.,  2805.,  2435.,  3485.,  4005.,\n",
              "         3189.,  4006.,  2914.,  3604.,  4404.,  3607.,  2885.,  3185.,\n",
              "         3005.,  4406.,  3006.,  3216.,  3245.,  3005.,  3504.,  4845.,\n",
              "         7704.,  3639.,  2481.,  2795.,  3268.,  3644.,  3184.,  1840.,\n",
              "         3973.,  3976.,  1955.,  5305.,  3004.,  2406.,  3007.,  3365.,\n",
              "         3428.,  1706.,  3653.,  2995.,  3006.,  2405.,  3624.,  2915.,\n",
              "         3856.])"
            ]
          },
          "metadata": {},
          "execution_count": 195
        }
      ]
    },
    {
      "cell_type": "code",
      "source": [
        "loss = loss_fn(Y_p, Y)\n",
        "loss"
      ],
      "metadata": {
        "colab": {
          "base_uri": "https://localhost:8080/"
        },
        "id": "isprjgURU2zw",
        "outputId": "baf32b53-305a-4b67-b98c-4a76359b0847"
      },
      "execution_count": 196,
      "outputs": [
        {
          "output_type": "execute_result",
          "data": {
            "text/plain": [
              "tensor(2.6160e+13)"
            ]
          },
          "metadata": {},
          "execution_count": 196
        }
      ]
    },
    {
      "cell_type": "code",
      "source": [
        "learning_rate = 1e-2\n",
        "delta = 0.1"
      ],
      "metadata": {
        "id": "Eii3hhdXU6Bs"
      },
      "execution_count": 197,
      "outputs": []
    },
    {
      "cell_type": "code",
      "source": [
        "loss_rate_of_change_w5 = \\\n",
        "    (loss_fn(model(X1, X2, X3, X4, X5, w1, w2, w3, w4, w5 + delta, b), Y) - \n",
        "     loss_fn(model(X1, X2, X3, X4, X5, w1, w2, w3, w4, w5 - delta, b), Y)) / (2.0 * delta)\n",
        "\n",
        "w5 = w5 - learning_rate * loss_rate_of_change_w5"
      ],
      "metadata": {
        "id": "NfRVQVGfVLac"
      },
      "execution_count": 198,
      "outputs": []
    },
    {
      "cell_type": "code",
      "source": [
        "loss_rate_of_change_w4 = \\\n",
        "    (loss_fn(model(X1, X2, X3, X4, X5, w1, w2, w3, w4 + delta, w5, b), Y) - \n",
        "     loss_fn(model(X1, X2, X3, X4, X5, w1, w2, w3, w4 - delta, w5, b), Y)) / (2.0 * delta)\n",
        "\n",
        "w4 = w4 - learning_rate * loss_rate_of_change_w4"
      ],
      "metadata": {
        "id": "D5dbMDQiVPlM"
      },
      "execution_count": 199,
      "outputs": []
    },
    {
      "cell_type": "code",
      "source": [
        "loss_rate_of_change_w3 = \\\n",
        "    (loss_fn(model(X1, X2, X3, X4, X5, w1, w2, w3 + delta, w4, w5, b), Y) - \n",
        "     loss_fn(model(X1, X2, X3, X4, X5, w1, w2, w3 - delta, w4, w5, b), Y)) / (2.0 * delta)\n",
        "\n",
        "w3 = w3 - learning_rate * loss_rate_of_change_w3"
      ],
      "metadata": {
        "id": "MiEnCmxFVQEV"
      },
      "execution_count": 200,
      "outputs": []
    },
    {
      "cell_type": "code",
      "source": [
        "from torch._C import DeserializationStorageContext\n",
        "loss_rate_of_change_w2 = \\\n",
        "    (loss_fn(model(X1, X2, X3, X4, X5, w1, w2 + delta, w3, w4, w5, b), Y) - \n",
        "     loss_fn(model(X1, X2, X3, X4, X5, w1, w2 - delta, w3, w4, w5, b), Y)) / (2.0 * delta)\n",
        "\n",
        "w2 = w2 - learning_rate * loss_rate_of_change_w2"
      ],
      "metadata": {
        "id": "TmqQBIzVVQln"
      },
      "execution_count": 201,
      "outputs": []
    },
    {
      "cell_type": "code",
      "source": [
        "loss_rate_of_change_w1 = \\\n",
        "    (loss_fn(model(X1, X2, X3, X4, X5, w1 + delta, w2, w3, w4, w5, b), Y) - \n",
        "     loss_fn(model(X1, X2, X3, X4, X5, w1 - delta, w2, w3, w4, w5, b), Y)) / (2.0 * delta)\n",
        "\n",
        "w1 = w1 - learning_rate * loss_rate_of_change_w1"
      ],
      "metadata": {
        "id": "Px8_Zow9VVeq"
      },
      "execution_count": 202,
      "outputs": []
    },
    {
      "cell_type": "code",
      "source": [
        "loss_rate_of_change_b = \\\n",
        "    (loss_fn(model(X1, X2, X3, X4, X5, w1, w2, w3, w4, w5, b + delta), Y) - \n",
        "     loss_fn(model(X1, X2, X3, X4, X5, w1, w2, w3, w4, w5, b - delta), Y)) / (2.0 * delta)\n",
        "\n",
        "b = b - learning_rate * loss_rate_of_change_b"
      ],
      "metadata": {
        "id": "1tkCApM-WWw3"
      },
      "execution_count": 203,
      "outputs": []
    },
    {
      "cell_type": "code",
      "source": [
        "def dloss_fn(Y_p, Y):\n",
        "    dsq_diffs = 2 * (Y_p - Y) / Y_p.size(0)  # <1>\n",
        "    return dsq_diffs"
      ],
      "metadata": {
        "id": "ogfsdmbLWlMd"
      },
      "execution_count": 204,
      "outputs": []
    },
    {
      "cell_type": "code",
      "source": [
        "def dmodel_dw1(X1, X2, X3, X4, X5, w1, w2, w3, w4, w5, b):\n",
        "    return X1"
      ],
      "metadata": {
        "id": "mQt_DnoGWu1v"
      },
      "execution_count": 205,
      "outputs": []
    },
    {
      "cell_type": "code",
      "source": [
        "def dmodel_dw2(X1, X2, X3, X4, X5, w1, w2, w3, w4, w5, b):\n",
        "    return X2"
      ],
      "metadata": {
        "id": "Jl0yp34RYgfn"
      },
      "execution_count": 206,
      "outputs": []
    },
    {
      "cell_type": "code",
      "source": [
        "def dmodel_dw3(X1, X2, X3, X4, X5, w1, w2, w3, w4, w5, b):\n",
        "    return X3"
      ],
      "metadata": {
        "id": "AkeLRE-QYjOM"
      },
      "execution_count": 207,
      "outputs": []
    },
    {
      "cell_type": "code",
      "source": [
        "def dmodel_dw4(X1, X2, X3, X4, X5, w1, w2, w3, w4, w5, b):\n",
        "    return X4"
      ],
      "metadata": {
        "id": "D8p2SAKWYlf7"
      },
      "execution_count": 208,
      "outputs": []
    },
    {
      "cell_type": "code",
      "source": [
        "def dmodel_dw5(X1, X2, X3, X4, X5, w1, w2, w3, w4, w5, b):\n",
        "    return X5"
      ],
      "metadata": {
        "id": "NQ4DmhT6Ynxf"
      },
      "execution_count": 209,
      "outputs": []
    },
    {
      "cell_type": "code",
      "source": [
        "def dmodel_db(X1, X2, X3, X4, X5, w1, w2, w3, w4, w5, b):\n",
        "    return 1.0"
      ],
      "metadata": {
        "id": "wC4s0XSlYp2x"
      },
      "execution_count": 210,
      "outputs": []
    },
    {
      "cell_type": "code",
      "source": [
        "def grad_fn(X1, X2, X3, X4, X5, Y, Y_p, w1, w2, w3, w4, w5, b):\n",
        "    dloss_dtp = dloss_fn(Y_p, Y)\n",
        "    dloss_dw1 = dloss_dtp * dmodel_dw1(X1, X2, X3, X4, X5, w1, w2, w3, w4, w5, b)\n",
        "    dloss_dw2 = dloss_dtp * dmodel_dw2(X1, X2, X3, X4, X5, w1, w2, w3, w4, w5, b)\n",
        "    dloss_dw3 = dloss_dtp * dmodel_dw3(X1, X2, X3, X4, X5, w1, w2, w3, w4, w5, b)\n",
        "    dloss_dw4 = dloss_dtp * dmodel_dw4(X1, X2, X3, X4, X5, w1, w2, w3, w4, w5, b)\n",
        "    dloss_dw5 = dloss_dtp * dmodel_dw5(X1, X2, X3, X4, X5, w1, w2, w3, w4, w5, b)\n",
        "    dloss_db = dloss_dtp * dmodel_db(X1, X2, X3, X4, X5, w1, w2, w3, w4, w5, b)\n",
        "    return torch.stack([dloss_dw1.sum(), dloss_dw2.sum(), dloss_dw3.sum(), dloss_dw4.sum(), dloss_dw5.sum(), dloss_db.sum()])  # <1>"
      ],
      "metadata": {
        "id": "OcpFNHrtYvgs"
      },
      "execution_count": 211,
      "outputs": []
    },
    {
      "cell_type": "code",
      "source": [
        "def training_loop(n_epochs, learning_rate, params, X1, X2, X3, X4, X5, Y):\n",
        "    for epoch in range(1, n_epochs + 1):\n",
        "        w1, w2, w3, w4, w5, b = params\n",
        "\n",
        "        Y_p = model(X1, X2, X3, X4, X5, w1, w2, w3, w4, w5, b)  # <1>\n",
        "        loss = loss_fn(Y_p, Y)\n",
        "        grad = grad_fn(X1, X2, X3, X4, X5, Y, Y_p, w1, w2, w3, w4, w5, b)  # <2>\n",
        "\n",
        "        params = params - learning_rate * grad\n",
        "\n",
        "        print('Epoch %d, Loss %f' % (epoch, float(loss))) # <3>\n",
        "            \n",
        "    return params"
      ],
      "metadata": {
        "id": "8QGg9PTEaLOo"
      },
      "execution_count": 212,
      "outputs": []
    },
    {
      "cell_type": "code",
      "source": [
        "def training_loop(n_epochs, learning_rate, params, X1, X2, X3, X4, X5, Y,\n",
        "                  print_params=True):\n",
        "    for epoch in range(1, n_epochs + 1):\n",
        "        w1, w2, w3, w4, w5, b = params\n",
        "\n",
        "        Y_p = model(X1, X2, X3, X4, X5, w1, w2, w3, w4, w5, b)  # <1>\n",
        "        loss = loss_fn(Y_p, Y)\n",
        "        grad = grad_fn(X1, X2, X3, X4, X5, Y, Y_p, w1, w2, w3, w4, w5, b)  # <2>\n",
        "\n",
        "        params = params - learning_rate * grad\n",
        "\n",
        "        if epoch in {1, 2, 3, 10, 11, 99, 100, 4000, 5000}:  # <3>\n",
        "            print('Epoch %d, Loss %f' % (epoch, float(loss)))\n",
        "            if print_params:\n",
        "                print('    Params:', params)\n",
        "                print('    Grad:  ', grad)\n",
        "        if epoch in {4, 12, 101}:\n",
        "            print('...')\n",
        "\n",
        "        if not torch.isfinite(loss).all():\n",
        "            break  # <3>\n",
        "            \n",
        "    return params"
      ],
      "metadata": {
        "id": "OD8zZmwGaT0t"
      },
      "execution_count": 213,
      "outputs": []
    },
    {
      "cell_type": "code",
      "source": [
        "training_loop(\n",
        "    n_epochs = 5000, \n",
        "    learning_rate = 1e-1, \n",
        "    params = torch.tensor([1.0, 1.0, 1.0, 1.0, 1.0, 0.0]), \n",
        "    X1 = X1,\n",
        "    X2 = X2,\n",
        "    X3 = X3, \n",
        "    X4 = X4,\n",
        "    X5 = X5,  \n",
        "    Y = Y)"
      ],
      "metadata": {
        "colab": {
          "base_uri": "https://localhost:8080/"
        },
        "id": "zqUuq_dkbdEO",
        "outputId": "18e09fda-735c-4da7-f689-a8400bc73818"
      },
      "execution_count": 214,
      "outputs": [
        {
          "output_type": "stream",
          "name": "stdout",
          "text": [
            "Epoch 1, Loss 26160350101504.000000\n",
            "    Params: tensor([5.3383e+09, 2.9247e+06, 1.3220e+06, 1.8557e+06, 7.8404e+05,\n",
            "        9.5231e+05])\n",
            "    Grad:   tensor([-5.3383e+10, -2.9247e+07, -1.3220e+07, -1.8557e+07, -7.8404e+06,\n",
            "        -9.5231e+06])\n",
            "Epoch 2, Loss 889955936712440423569686528.000000\n",
            "    Params: tensor([-3.3342e+16, -1.6565e+13, -7.2983e+12, -1.0097e+13, -4.5174e+12,\n",
            "        -5.4991e+12])\n",
            "    Grad:   tensor([3.3342e+17, 1.6565e+14, 7.2983e+13, 1.0097e+14, 4.5174e+13,\n",
            "        5.4991e+13])\n",
            "Epoch 3, Loss inf\n",
            "    Params: tensor([2.0825e+23, 1.0346e+20, 4.5584e+19, 6.3064e+19, 2.8215e+19,\n",
            "        3.4346e+19])\n",
            "    Grad:   tensor([-2.0825e+24, -1.0346e+21, -4.5584e+20, -6.3064e+20, -2.8215e+20,\n",
            "        -3.4346e+20])\n"
          ]
        },
        {
          "output_type": "execute_result",
          "data": {
            "text/plain": [
              "tensor([2.0825e+23, 1.0346e+20, 4.5584e+19, 6.3064e+19, 2.8215e+19,\n",
              "        3.4346e+19])"
            ]
          },
          "metadata": {},
          "execution_count": 214
        }
      ]
    },
    {
      "cell_type": "code",
      "source": [
        "training_loop(\n",
        "    n_epochs = 5000, \n",
        "    learning_rate = 1e-2, \n",
        "    params = torch.tensor([1.0, 1.0, 1.0, 1.0, 1.0, 0.0]),  \n",
        "    X1 = X1,\n",
        "    X2 = X2,\n",
        "    X3 = X3, \n",
        "    X4 = X4,\n",
        "    X5 = X5,  \n",
        "    Y = Y)"
      ],
      "metadata": {
        "colab": {
          "base_uri": "https://localhost:8080/"
        },
        "id": "0wAHhzs7btjX",
        "outputId": "e0660fda-ef55-4745-a7e7-4869a3e735fc"
      },
      "execution_count": 215,
      "outputs": [
        {
          "output_type": "stream",
          "name": "stdout",
          "text": [
            "Epoch 1, Loss 26160350101504.000000\n",
            "    Params: tensor([5.3383e+08, 2.9247e+05, 1.3220e+05, 1.8557e+05, 7.8405e+04,\n",
            "        9.5231e+04])\n",
            "    Grad:   tensor([-5.3383e+10, -2.9247e+07, -1.3220e+07, -1.8557e+07, -7.8404e+06,\n",
            "        -9.5231e+06])\n",
            "Epoch 2, Loss 8899533680033281595146240.000000\n",
            "    Params: tensor([-3.3342e+14, -1.6565e+11, -7.2983e+10, -1.0097e+11, -4.5174e+10,\n",
            "        -5.4990e+10])\n",
            "    Grad:   tensor([3.3342e+16, 1.6565e+13, 7.2983e+12, 1.0097e+13, 4.5174e+12,\n",
            "        5.4991e+12])\n",
            "Epoch 3, Loss inf\n",
            "    Params: tensor([2.0825e+20, 1.0346e+17, 4.5584e+16, 6.3064e+16, 2.8215e+16,\n",
            "        3.4346e+16])\n",
            "    Grad:   tensor([-2.0825e+22, -1.0346e+19, -4.5584e+18, -6.3064e+18, -2.8215e+18,\n",
            "        -3.4346e+18])\n"
          ]
        },
        {
          "output_type": "execute_result",
          "data": {
            "text/plain": [
              "tensor([2.0825e+20, 1.0346e+17, 4.5584e+16, 6.3064e+16, 2.8215e+16,\n",
              "        3.4346e+16])"
            ]
          },
          "metadata": {},
          "execution_count": 215
        }
      ]
    },
    {
      "cell_type": "code",
      "source": [
        "training_loop(\n",
        "    n_epochs = 5000, \n",
        "    learning_rate = 1e-3, \n",
        "    params = torch.tensor([1.0, 1.0, 1.0, 1.0, 1.0, 0.0]), \n",
        "    X1 = X1,\n",
        "    X2 = X2,\n",
        "    X3 = X3, \n",
        "    X4 = X4,\n",
        "    X5 = X5,  \n",
        "    Y = Y)"
      ],
      "metadata": {
        "colab": {
          "base_uri": "https://localhost:8080/"
        },
        "id": "d6Me_3oibvKl",
        "outputId": "b6fd1559-d691-44c7-81c1-0ff748c8b7e5"
      },
      "execution_count": 216,
      "outputs": [
        {
          "output_type": "stream",
          "name": "stdout",
          "text": [
            "Epoch 1, Loss 26160350101504.000000\n",
            "    Params: tensor([5.3383e+07, 2.9248e+04, 1.3221e+04, 1.8558e+04, 7.8414e+03,\n",
            "        9.5231e+03])\n",
            "    Grad:   tensor([-5.3383e+10, -2.9247e+07, -1.3220e+07, -1.8557e+07, -7.8404e+06,\n",
            "        -9.5231e+06])\n",
            "Epoch 2, Loss 88992776954304618561536.000000\n",
            "    Params: tensor([-3.3341e+12, -1.6564e+09, -7.2981e+08, -1.0097e+09, -4.5172e+08,\n",
            "        -5.4989e+08])\n",
            "    Grad:   tensor([3.3342e+15, 1.6564e+12, 7.2982e+11, 1.0097e+12, 4.5173e+11,\n",
            "        5.4990e+11])\n",
            "Epoch 3, Loss 347149103402845397579785366929408.000000\n",
            "    Params: tensor([2.0824e+17, 1.0345e+14, 4.5582e+13, 6.3061e+13, 2.8213e+13,\n",
            "        3.4344e+13])\n",
            "    Grad:   tensor([-2.0824e+20, -1.0346e+17, -4.5582e+16, -6.3062e+16, -2.8214e+16,\n",
            "        -3.4345e+16])\n",
            "...\n"
          ]
        },
        {
          "output_type": "execute_result",
          "data": {
            "text/plain": [
              "tensor([-1.3006e+22, -6.4615e+18, -2.8469e+18, -3.9386e+18, -1.7621e+18,\n",
              "        -2.1450e+18])"
            ]
          },
          "metadata": {},
          "execution_count": 216
        }
      ]
    },
    {
      "cell_type": "code",
      "source": [
        "training_loop(\n",
        "    n_epochs = 5000, \n",
        "    learning_rate = 1e-4, \n",
        "    params = torch.tensor([1.0, 1.0, 1.0, 1.0, 1.0, 0.0]), \n",
        "    X1 = X1,\n",
        "    X2 = X2,\n",
        "    X3 = X3, \n",
        "    X4 = X4,\n",
        "    X5 = X5,  \n",
        "    Y = Y)"
      ],
      "metadata": {
        "colab": {
          "base_uri": "https://localhost:8080/"
        },
        "id": "-dtNwuD2bw9-",
        "outputId": "8f61a27a-ab12-484f-f244-5e5e5fd24728"
      },
      "execution_count": 217,
      "outputs": [
        {
          "output_type": "stream",
          "name": "stdout",
          "text": [
            "Epoch 1, Loss 26160350101504.000000\n",
            "    Params: tensor([5.3383e+06, 2.9257e+03, 1.3230e+03, 1.8567e+03, 7.8504e+02,\n",
            "        9.5231e+02])\n",
            "    Grad:   tensor([-5.3383e+10, -2.9247e+07, -1.3220e+07, -1.8557e+07, -7.8404e+06,\n",
            "        -9.5231e+06])\n",
            "Epoch 2, Loss 889671328950764175360.000000\n",
            "    Params: tensor([-3.3331e+10, -1.6559e+07, -7.2957e+06, -1.0093e+07, -4.5158e+06,\n",
            "        -5.4972e+06])\n",
            "    Grad:   tensor([3.3337e+14, 1.6562e+11, 7.2970e+10, 1.0095e+11, 4.5166e+10,\n",
            "        5.4981e+10])\n",
            "Epoch 3, Loss 34694886539256516770569125888.000000\n",
            "    Params: tensor([2.0815e+14, 1.0341e+11, 4.5562e+10, 6.3034e+10, 2.8201e+10,\n",
            "        3.4329e+10])\n",
            "    Grad:   tensor([-2.0818e+18, -1.0343e+15, -4.5569e+14, -6.3044e+14, -2.8206e+14,\n",
            "        -3.4335e+14])\n",
            "...\n"
          ]
        },
        {
          "output_type": "execute_result",
          "data": {
            "text/plain": [
              "tensor([-1.2998e+18, -6.4577e+14, -2.8453e+14, -3.9363e+14, -1.7611e+14,\n",
              "        -2.1438e+14])"
            ]
          },
          "metadata": {},
          "execution_count": 217
        }
      ]
    }
  ]
}