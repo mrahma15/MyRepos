{
  "cells": [
    {
      "cell_type": "markdown",
      "metadata": {
        "id": "view-in-github",
        "colab_type": "text"
      },
      "source": [
        "<a href=\"https://colab.research.google.com/github/mrahma15/MyRepos/blob/main/Homework_3_Problem_1.ipynb\" target=\"_parent\"><img src=\"https://colab.research.google.com/assets/colab-badge.svg\" alt=\"Open In Colab\"/></a>"
      ]
    },
    {
      "cell_type": "code",
      "execution_count": 3,
      "metadata": {
        "id": "Mb5v2W28BvoP",
        "colab": {
          "base_uri": "https://localhost:8080/"
        },
        "outputId": "fc0eb3cc-26ea-4be6-81e2-7eb71cfbb86e"
      },
      "outputs": [
        {
          "output_type": "execute_result",
          "data": {
            "text/plain": [
              "<torch._C.Generator at 0x7f9d19820d70>"
            ]
          },
          "metadata": {},
          "execution_count": 3
        }
      ],
      "source": [
        "%matplotlib inline\n",
        "from matplotlib import pyplot as plt\n",
        "import numpy as np\n",
        "import collections\n",
        "\n",
        "import torch\n",
        "import torch.nn as nn\n",
        "import torch.nn.functional as F\n",
        "import torch.optim as optim\n",
        "\n",
        "torch.set_printoptions(edgeitems=2)\n",
        "torch.manual_seed(123)"
      ]
    },
    {
      "cell_type": "code",
      "execution_count": 4,
      "metadata": {
        "id": "-F5Y1lGmCC1y"
      },
      "outputs": [],
      "source": [
        "class_names = ['airplane','automobile','bird','cat','deer',\n",
        "               'dog','frog','horse','ship','truck']"
      ]
    },
    {
      "cell_type": "code",
      "execution_count": 5,
      "metadata": {
        "id": "K9CfQbp0CFNx",
        "colab": {
          "base_uri": "https://localhost:8080/",
          "height": 85,
          "referenced_widgets": [
            "b8616798902f46b7ad343d0f47b929c5",
            "8fb1fdecaa8a4ed998db7446a3d56adc",
            "6b33c3a845f84670ac610089673478a7",
            "e7d33070b2fb44e8b24f8d56dc796b00",
            "0287bd77f55d40029fad8e645b1e2cc6",
            "9cae5c82e484479982ba52a909c56076",
            "f7faf97b48ce4b5eb228eff6014fc2bb",
            "5064e7acf4074e418ca476b1c0850de2",
            "2f4b2d57aef849acbab5a8f07c0af701",
            "9b448608ce154beab722b39b2f563d9c",
            "1cfb3d0c810845f5a8780038ca607b6e"
          ]
        },
        "outputId": "a1f607a2-1cf4-4d15-eec8-75095d513707"
      },
      "outputs": [
        {
          "output_type": "stream",
          "name": "stdout",
          "text": [
            "Downloading https://www.cs.toronto.edu/~kriz/cifar-10-python.tar.gz to ../data-unversioned/p1ch6/cifar-10-python.tar.gz\n"
          ]
        },
        {
          "output_type": "display_data",
          "data": {
            "text/plain": [
              "  0%|          | 0/170498071 [00:00<?, ?it/s]"
            ],
            "application/vnd.jupyter.widget-view+json": {
              "version_major": 2,
              "version_minor": 0,
              "model_id": "b8616798902f46b7ad343d0f47b929c5"
            }
          },
          "metadata": {}
        },
        {
          "output_type": "stream",
          "name": "stdout",
          "text": [
            "Extracting ../data-unversioned/p1ch6/cifar-10-python.tar.gz to ../data-unversioned/p1ch6/\n"
          ]
        }
      ],
      "source": [
        "from torchvision import datasets, transforms\n",
        "data_path = '../data-unversioned/p1ch6/'\n",
        "cifar10 = datasets.CIFAR10(\n",
        "    data_path, train=True, download=True,\n",
        "    transform=transforms.Compose([\n",
        "        transforms.ToTensor(),\n",
        "        transforms.Normalize((0.4915, 0.4823, 0.4468),\n",
        "                             (0.2470, 0.2435, 0.2616))\n",
        "    ]))"
      ]
    },
    {
      "cell_type": "code",
      "execution_count": 6,
      "metadata": {
        "id": "9zJyvEVhCIVL",
        "colab": {
          "base_uri": "https://localhost:8080/"
        },
        "outputId": "34f5d06f-77cd-4598-e67e-b3d57dfd376a"
      },
      "outputs": [
        {
          "output_type": "stream",
          "name": "stdout",
          "text": [
            "Files already downloaded and verified\n"
          ]
        }
      ],
      "source": [
        "cifar10_val = datasets.CIFAR10(\n",
        "    data_path, train=False, download=True,\n",
        "    transform=transforms.Compose([\n",
        "        transforms.ToTensor(),\n",
        "        transforms.Normalize((0.4915, 0.4823, 0.4468),\n",
        "                             (0.2470, 0.2435, 0.2616))\n",
        "    ]))"
      ]
    },
    {
      "cell_type": "code",
      "execution_count": 7,
      "metadata": {
        "id": "NR9b30aJCLbU"
      },
      "outputs": [],
      "source": [
        "class Net(nn.Module):\n",
        "    def __init__(self):\n",
        "        super().__init__()\n",
        "        self.conv1 = nn.Conv2d(3, 16, kernel_size=3, padding=1)\n",
        "        self.act1 = nn.Tanh()\n",
        "        self.pool1 = nn.MaxPool2d(2)\n",
        "        self.conv2 = nn.Conv2d(16, 8, kernel_size=3, padding=1)\n",
        "        self.act2 = nn.Tanh()\n",
        "        self.pool2 = nn.MaxPool2d(2)\n",
        "        self.fc1 = nn.Linear(8 * 8 * 8, 32)\n",
        "        self.act3 = nn.Tanh()\n",
        "        self.fc2 = nn.Linear(32, 10)\n",
        "\n",
        "    def forward(self, x):\n",
        "        out = self.pool1(self.act1(self.conv1(x)))\n",
        "        out = self.pool2(self.act2(self.conv2(out)))\n",
        "        out = out.view(-1, 8 * 8 * 8) # <1>\n",
        "        out = self.act3(self.fc1(out))\n",
        "        out = self.fc2(out)\n",
        "        return out"
      ]
    },
    {
      "cell_type": "code",
      "execution_count": 8,
      "metadata": {
        "id": "gBV6qOW8CXTo",
        "colab": {
          "base_uri": "https://localhost:8080/"
        },
        "outputId": "1a9998c0-5c5b-4728-daa1-4b17875f1f4b"
      },
      "outputs": [
        {
          "output_type": "execute_result",
          "data": {
            "text/plain": [
              "(18354, [432, 16, 1152, 8, 16384, 32, 320, 10])"
            ]
          },
          "metadata": {},
          "execution_count": 8
        }
      ],
      "source": [
        "model = Net()\n",
        "\n",
        "numel_list = [p.numel() for p in model.parameters()]\n",
        "sum(numel_list), numel_list"
      ]
    },
    {
      "cell_type": "code",
      "execution_count": 9,
      "metadata": {
        "id": "T8mpKdldFtVP"
      },
      "outputs": [],
      "source": [
        "import datetime  # <1>\n",
        "\n",
        "def training_loop(n_epochs, optimizer, model, loss_fn, train_loader):\n",
        "    for epoch in range(1, n_epochs + 1):  # <2>\n",
        "        loss_train = 0.0\n",
        "        for imgs, labels in train_loader:  # <3>\n",
        "            \n",
        "            outputs = model(imgs)  # <4>\n",
        "            \n",
        "            loss = loss_fn(outputs, labels)  # <5>\n",
        "\n",
        "            optimizer.zero_grad()  # <6>\n",
        "            \n",
        "            loss.backward()  # <7>\n",
        "            \n",
        "            optimizer.step()  # <8>\n",
        "\n",
        "            loss_train += loss.item()  # <9>\n",
        "\n",
        "        if epoch == 1 or epoch % 10 == 0:\n",
        "            print('{} Epoch {}, Training loss {}'.format(\n",
        "                datetime.datetime.now(), epoch,\n",
        "                loss_train / len(train_loader)))  # <10>"
      ]
    },
    {
      "cell_type": "code",
      "execution_count": 16,
      "metadata": {
        "colab": {
          "base_uri": "https://localhost:8080/"
        },
        "id": "Nfedq0FIFx54",
        "outputId": "f69a2fe0-f3ba-4199-c6ef-298cedafaefb"
      },
      "outputs": [
        {
          "output_type": "stream",
          "name": "stdout",
          "text": [
            "2022-03-27 08:50:47.738993 Epoch 1, Training loss 2.068033354971415\n",
            "2022-03-27 08:55:36.702396 Epoch 10, Training loss 1.1939987672869201\n",
            "2022-03-27 09:00:56.786842 Epoch 20, Training loss 0.995277678951278\n",
            "2022-03-27 09:06:20.823250 Epoch 30, Training loss 0.9005984362891263\n",
            "2022-03-27 09:11:50.570246 Epoch 40, Training loss 0.8447115568020155\n",
            "2022-03-27 09:17:13.038314 Epoch 50, Training loss 0.8062892282557914\n",
            "2022-03-27 09:22:34.700842 Epoch 60, Training loss 0.774764951423306\n",
            "2022-03-27 09:27:57.730118 Epoch 70, Training loss 0.747690144821506\n",
            "2022-03-27 09:33:21.743346 Epoch 80, Training loss 0.7252212808946209\n",
            "2022-03-27 09:38:45.998043 Epoch 90, Training loss 0.7062061069261693\n",
            "2022-03-27 09:44:11.854280 Epoch 100, Training loss 0.6894811211187212\n",
            "2022-03-27 09:49:38.533293 Epoch 110, Training loss 0.6734222758304128\n",
            "2022-03-27 09:55:06.980421 Epoch 120, Training loss 0.6603259877551853\n",
            "2022-03-27 10:00:33.088829 Epoch 130, Training loss 0.6468284983387993\n",
            "2022-03-27 10:05:57.558726 Epoch 140, Training loss 0.6357220801932123\n",
            "2022-03-27 10:11:22.200726 Epoch 150, Training loss 0.6235285588085194\n",
            "2022-03-27 10:16:49.134870 Epoch 160, Training loss 0.6129621478450268\n",
            "2022-03-27 10:22:17.448991 Epoch 170, Training loss 0.6056371431826325\n",
            "2022-03-27 10:27:43.615780 Epoch 180, Training loss 0.5949720290615735\n",
            "2022-03-27 10:33:11.321177 Epoch 190, Training loss 0.5856763152286525\n",
            "2022-03-27 10:38:38.530647 Epoch 200, Training loss 0.5790732331821681\n",
            "2022-03-27 10:44:06.364928 Epoch 210, Training loss 0.5718361217423779\n",
            "2022-03-27 10:49:34.166640 Epoch 220, Training loss 0.5653463448481182\n",
            "2022-03-27 10:55:04.788481 Epoch 230, Training loss 0.5607067398784106\n",
            "2022-03-27 11:00:37.806526 Epoch 240, Training loss 0.5545613683017013\n",
            "2022-03-27 11:06:07.013381 Epoch 250, Training loss 0.5484164511151326\n",
            "2022-03-27 11:11:33.857466 Epoch 260, Training loss 0.5433461970228064\n",
            "2022-03-27 11:16:57.790334 Epoch 270, Training loss 0.5383864209398894\n",
            "2022-03-27 11:22:21.662442 Epoch 280, Training loss 0.5322003653820824\n",
            "2022-03-27 11:27:46.687873 Epoch 290, Training loss 0.5301459823423029\n",
            "2022-03-27 11:33:10.740255 Epoch 300, Training loss 0.5256440667316432\n"
          ]
        }
      ],
      "source": [
        "train_loader = torch.utils.data.DataLoader(cifar10, batch_size=64,\n",
        "                                           shuffle=True)  # <1>\n",
        "\n",
        "model = Net()  #  <2>\n",
        "optimizer = optim.SGD(model.parameters(), lr=1e-2)  #  <3>\n",
        "loss_fn = nn.CrossEntropyLoss()  #  <4>\n",
        "\n",
        "training_loop(  # <5>\n",
        "    n_epochs = 300,\n",
        "    optimizer = optimizer,\n",
        "    model = model,\n",
        "    loss_fn = loss_fn,\n",
        "    train_loader = train_loader,\n",
        ")"
      ]
    },
    {
      "cell_type": "code",
      "execution_count": 17,
      "metadata": {
        "id": "rslPrAE7F3Ui",
        "colab": {
          "base_uri": "https://localhost:8080/"
        },
        "outputId": "d2a03b58-be93-43c7-d875-0a6958a81cc6"
      },
      "outputs": [
        {
          "output_type": "stream",
          "name": "stdout",
          "text": [
            "Accuracy train: 0.77\n",
            "Accuracy val: 0.61\n"
          ]
        }
      ],
      "source": [
        "train_loader = torch.utils.data.DataLoader(cifar10, batch_size=64,\n",
        "                                           shuffle=False)\n",
        "val_loader = torch.utils.data.DataLoader(cifar10_val, batch_size=64,\n",
        "                                         shuffle=False)\n",
        "\n",
        "def validate(model, train_loader, val_loader):\n",
        "    for name, loader in [(\"train\", train_loader), (\"val\", val_loader)]:\n",
        "        correct = 0\n",
        "        total = 0\n",
        "\n",
        "        with torch.no_grad():  # <1>\n",
        "            for imgs, labels in loader:\n",
        "                outputs = model(imgs)\n",
        "                _, predicted = torch.max(outputs, dim=1) # <2>\n",
        "                total += labels.shape[0]  # <3>\n",
        "                correct += int((predicted == labels).sum())  # <4>\n",
        "\n",
        "        print(\"Accuracy {}: {:.2f}\".format(name , correct / total))\n",
        "\n",
        "validate(model, train_loader, val_loader)"
      ]
    },
    {
      "cell_type": "code",
      "execution_count": 10,
      "metadata": {
        "id": "4cXwwq2dvfkq"
      },
      "outputs": [],
      "source": [
        "#Problem 1(b)\n",
        "\n",
        "class Net(nn.Module):\n",
        "    def __init__(self):\n",
        "        super().__init__()\n",
        "        self.conv1 = nn.Conv2d(3, 32, kernel_size=3, padding=1)\n",
        "        self.act1 = nn.Tanh()\n",
        "        self.pool1 = nn.MaxPool2d(2)\n",
        "        self.conv2 = nn.Conv2d(32, 16, kernel_size=3, padding=1)\n",
        "        self.act2 = nn.Tanh()\n",
        "        self.pool2 = nn.MaxPool2d(2)\n",
        "        self.conv3 = nn.Conv2d(16, 4, kernel_size=3, padding=1)\n",
        "        self.act3 = nn.Tanh()\n",
        "        self.pool3 = nn.MaxPool2d(2)\n",
        "        self.fc1 = nn.Linear(4 * 4 * 4, 32)\n",
        "        self.act4 = nn.Tanh()\n",
        "        self.fc2 = nn.Linear(32, 10)\n",
        "\n",
        "    def forward(self, x):\n",
        "        out = self.pool1(self.act1(self.conv1(x)))\n",
        "        out = self.pool2(self.act2(self.conv2(out)))\n",
        "        out = self.pool3(self.act3(self.conv3(out)))\n",
        "        out = out.view(-1, 64) # <1>\n",
        "        out = self.act4(self.fc1(out))\n",
        "        out = self.fc2(out)\n",
        "        return out"
      ]
    },
    {
      "cell_type": "code",
      "execution_count": 11,
      "metadata": {
        "id": "3g2ZICPvwg3x",
        "colab": {
          "base_uri": "https://localhost:8080/"
        },
        "outputId": "0c8957c0-92ce-44c5-8d6e-2370f9f05cde"
      },
      "outputs": [
        {
          "output_type": "execute_result",
          "data": {
            "text/plain": [
              "(8510, [864, 32, 4608, 16, 576, 4, 2048, 32, 320, 10])"
            ]
          },
          "metadata": {},
          "execution_count": 11
        }
      ],
      "source": [
        "model = Net()\n",
        "\n",
        "numel_list = [p.numel() for p in model.parameters()]\n",
        "sum(numel_list), numel_list"
      ]
    },
    {
      "cell_type": "code",
      "execution_count": 12,
      "metadata": {
        "id": "XSK_O5S2xwOy"
      },
      "outputs": [],
      "source": [
        "import datetime  # <1>\n",
        "\n",
        "def training_loop(n_epochs, optimizer, model, loss_fn, train_loader):\n",
        "    for epoch in range(1, n_epochs + 1):  # <2>\n",
        "        loss_train = 0.0\n",
        "        for imgs, labels in train_loader:  # <3>\n",
        "            \n",
        "            outputs = model(imgs)  # <4>\n",
        "            \n",
        "            loss = loss_fn(outputs, labels)  # <5>\n",
        "\n",
        "            optimizer.zero_grad()  # <6>\n",
        "            \n",
        "            loss.backward()  # <7>\n",
        "            \n",
        "            optimizer.step()  # <8>\n",
        "\n",
        "            loss_train += loss.item()  # <9>\n",
        "\n",
        "        if epoch == 1 or epoch % 10 == 0:\n",
        "            print('{} Epoch {}, Training loss {}'.format(\n",
        "                datetime.datetime.now(), epoch,\n",
        "                loss_train / len(train_loader)))  # <10>"
      ]
    },
    {
      "cell_type": "code",
      "execution_count": 13,
      "metadata": {
        "id": "o0TujUlNxCks",
        "colab": {
          "base_uri": "https://localhost:8080/"
        },
        "outputId": "d064e1a1-c963-4c30-9d8d-f573236f5b66"
      },
      "outputs": [
        {
          "output_type": "stream",
          "name": "stdout",
          "text": [
            "2022-03-27 15:09:23.546793 Epoch 1, Training loss 2.139699716244817\n",
            "2022-03-27 15:16:01.549659 Epoch 10, Training loss 1.3484786485162232\n",
            "2022-03-27 15:23:30.119255 Epoch 20, Training loss 1.129497716417703\n",
            "2022-03-27 15:30:57.467026 Epoch 30, Training loss 1.032059505696187\n",
            "2022-03-27 15:38:25.972880 Epoch 40, Training loss 0.977428898024742\n",
            "2022-03-27 15:45:53.962306 Epoch 50, Training loss 0.9370319100901904\n",
            "2022-03-27 15:53:27.148299 Epoch 60, Training loss 0.9067137938021393\n",
            "2022-03-27 16:01:01.693119 Epoch 70, Training loss 0.8815528684107544\n",
            "2022-03-27 16:08:35.693790 Epoch 80, Training loss 0.8614562253665436\n",
            "2022-03-27 16:16:13.722192 Epoch 90, Training loss 0.8478692185772044\n",
            "2022-03-27 16:23:52.297434 Epoch 100, Training loss 0.8331145587784555\n",
            "2022-03-27 16:31:26.519947 Epoch 110, Training loss 0.8216363388635314\n",
            "2022-03-27 16:39:01.666649 Epoch 120, Training loss 0.8113292381739068\n",
            "2022-03-27 16:46:36.218310 Epoch 130, Training loss 0.7999690966990293\n",
            "2022-03-27 16:54:11.849794 Epoch 140, Training loss 0.7921519833223899\n",
            "2022-03-27 17:01:47.802932 Epoch 150, Training loss 0.7834863084585161\n",
            "2022-03-27 17:09:26.358892 Epoch 160, Training loss 0.7766671888053874\n",
            "2022-03-27 17:17:05.967879 Epoch 170, Training loss 0.770469029960425\n",
            "2022-03-27 17:24:45.470636 Epoch 180, Training loss 0.7634912381696579\n",
            "2022-03-27 17:32:27.323666 Epoch 190, Training loss 0.7594727218684638\n",
            "2022-03-27 17:40:12.838979 Epoch 200, Training loss 0.7540668686256384\n",
            "2022-03-27 17:47:59.361422 Epoch 210, Training loss 0.7497241033998596\n",
            "2022-03-27 17:55:48.792161 Epoch 220, Training loss 0.7448126968672818\n",
            "2022-03-27 18:03:37.862495 Epoch 230, Training loss 0.7403850230338324\n",
            "2022-03-27 18:11:28.124382 Epoch 240, Training loss 0.73361039641873\n",
            "2022-03-27 18:19:16.758829 Epoch 250, Training loss 0.730969930243919\n",
            "2022-03-27 18:27:05.310922 Epoch 260, Training loss 0.7297069767628179\n",
            "2022-03-27 18:34:54.323354 Epoch 270, Training loss 0.7241730336719157\n",
            "2022-03-27 18:42:46.451035 Epoch 280, Training loss 0.7241514559520785\n",
            "2022-03-27 18:50:36.922072 Epoch 290, Training loss 0.7186012508161842\n",
            "2022-03-27 18:58:36.006015 Epoch 300, Training loss 0.7160281519145917\n"
          ]
        }
      ],
      "source": [
        "train_loader = torch.utils.data.DataLoader(cifar10, batch_size=64,\n",
        "                                           shuffle=True)  # <1>\n",
        "\n",
        "model = Net()  #  <2>\n",
        "optimizer = optim.SGD(model.parameters(), lr=1e-2)  #  <3>\n",
        "loss_fn = nn.CrossEntropyLoss()  #  <4>\n",
        "\n",
        "training_loop(  # <5>\n",
        "    n_epochs = 300,\n",
        "    optimizer = optimizer,\n",
        "    model = model,\n",
        "    loss_fn = loss_fn,\n",
        "    train_loader = train_loader,\n",
        ")"
      ]
    },
    {
      "cell_type": "code",
      "execution_count": 14,
      "metadata": {
        "id": "ZQSTim5KxHM-",
        "colab": {
          "base_uri": "https://localhost:8080/"
        },
        "outputId": "28f08d4d-9327-4890-aab3-7cce97ce1b75"
      },
      "outputs": [
        {
          "output_type": "stream",
          "name": "stdout",
          "text": [
            "Accuracy train: 0.72\n",
            "Accuracy val: 0.63\n"
          ]
        }
      ],
      "source": [
        "train_loader = torch.utils.data.DataLoader(cifar10, batch_size=64,\n",
        "                                           shuffle=False)\n",
        "val_loader = torch.utils.data.DataLoader(cifar10_val, batch_size=64,\n",
        "                                         shuffle=False)\n",
        "\n",
        "def validate(model, train_loader, val_loader):\n",
        "    for name, loader in [(\"train\", train_loader), (\"val\", val_loader)]:\n",
        "        correct = 0\n",
        "        total = 0\n",
        "\n",
        "        with torch.no_grad():  # <1>\n",
        "            for imgs, labels in loader:\n",
        "                outputs = model(imgs)\n",
        "                _, predicted = torch.max(outputs, dim=1) # <2>\n",
        "                total += labels.shape[0]  # <3>\n",
        "                correct += int((predicted == labels).sum())  # <4>\n",
        "\n",
        "        print(\"Accuracy {}: {:.2f}\".format(name , correct / total))\n",
        "\n",
        "validate(model, train_loader, val_loader)"
      ]
    }
  ],
  "metadata": {
    "colab": {
      "name": "Homework_3_Problem_1.ipynb",
      "provenance": [],
      "authorship_tag": "ABX9TyNzCG+5FZFubhtkm3U5Y8tS",
      "include_colab_link": true
    },
    "kernelspec": {
      "display_name": "Python 3",
      "name": "python3"
    },
    "language_info": {
      "name": "python"
    },
    "widgets": {
      "application/vnd.jupyter.widget-state+json": {
        "b8616798902f46b7ad343d0f47b929c5": {
          "model_module": "@jupyter-widgets/controls",
          "model_name": "HBoxModel",
          "model_module_version": "1.5.0",
          "state": {
            "_dom_classes": [],
            "_model_module": "@jupyter-widgets/controls",
            "_model_module_version": "1.5.0",
            "_model_name": "HBoxModel",
            "_view_count": null,
            "_view_module": "@jupyter-widgets/controls",
            "_view_module_version": "1.5.0",
            "_view_name": "HBoxView",
            "box_style": "",
            "children": [
              "IPY_MODEL_8fb1fdecaa8a4ed998db7446a3d56adc",
              "IPY_MODEL_6b33c3a845f84670ac610089673478a7",
              "IPY_MODEL_e7d33070b2fb44e8b24f8d56dc796b00"
            ],
            "layout": "IPY_MODEL_0287bd77f55d40029fad8e645b1e2cc6"
          }
        },
        "8fb1fdecaa8a4ed998db7446a3d56adc": {
          "model_module": "@jupyter-widgets/controls",
          "model_name": "HTMLModel",
          "model_module_version": "1.5.0",
          "state": {
            "_dom_classes": [],
            "_model_module": "@jupyter-widgets/controls",
            "_model_module_version": "1.5.0",
            "_model_name": "HTMLModel",
            "_view_count": null,
            "_view_module": "@jupyter-widgets/controls",
            "_view_module_version": "1.5.0",
            "_view_name": "HTMLView",
            "description": "",
            "description_tooltip": null,
            "layout": "IPY_MODEL_9cae5c82e484479982ba52a909c56076",
            "placeholder": "​",
            "style": "IPY_MODEL_f7faf97b48ce4b5eb228eff6014fc2bb",
            "value": ""
          }
        },
        "6b33c3a845f84670ac610089673478a7": {
          "model_module": "@jupyter-widgets/controls",
          "model_name": "FloatProgressModel",
          "model_module_version": "1.5.0",
          "state": {
            "_dom_classes": [],
            "_model_module": "@jupyter-widgets/controls",
            "_model_module_version": "1.5.0",
            "_model_name": "FloatProgressModel",
            "_view_count": null,
            "_view_module": "@jupyter-widgets/controls",
            "_view_module_version": "1.5.0",
            "_view_name": "ProgressView",
            "bar_style": "success",
            "description": "",
            "description_tooltip": null,
            "layout": "IPY_MODEL_5064e7acf4074e418ca476b1c0850de2",
            "max": 170498071,
            "min": 0,
            "orientation": "horizontal",
            "style": "IPY_MODEL_2f4b2d57aef849acbab5a8f07c0af701",
            "value": 170498071
          }
        },
        "e7d33070b2fb44e8b24f8d56dc796b00": {
          "model_module": "@jupyter-widgets/controls",
          "model_name": "HTMLModel",
          "model_module_version": "1.5.0",
          "state": {
            "_dom_classes": [],
            "_model_module": "@jupyter-widgets/controls",
            "_model_module_version": "1.5.0",
            "_model_name": "HTMLModel",
            "_view_count": null,
            "_view_module": "@jupyter-widgets/controls",
            "_view_module_version": "1.5.0",
            "_view_name": "HTMLView",
            "description": "",
            "description_tooltip": null,
            "layout": "IPY_MODEL_9b448608ce154beab722b39b2f563d9c",
            "placeholder": "​",
            "style": "IPY_MODEL_1cfb3d0c810845f5a8780038ca607b6e",
            "value": " 170499072/? [00:06&lt;00:00, 31481782.74it/s]"
          }
        },
        "0287bd77f55d40029fad8e645b1e2cc6": {
          "model_module": "@jupyter-widgets/base",
          "model_name": "LayoutModel",
          "model_module_version": "1.2.0",
          "state": {
            "_model_module": "@jupyter-widgets/base",
            "_model_module_version": "1.2.0",
            "_model_name": "LayoutModel",
            "_view_count": null,
            "_view_module": "@jupyter-widgets/base",
            "_view_module_version": "1.2.0",
            "_view_name": "LayoutView",
            "align_content": null,
            "align_items": null,
            "align_self": null,
            "border": null,
            "bottom": null,
            "display": null,
            "flex": null,
            "flex_flow": null,
            "grid_area": null,
            "grid_auto_columns": null,
            "grid_auto_flow": null,
            "grid_auto_rows": null,
            "grid_column": null,
            "grid_gap": null,
            "grid_row": null,
            "grid_template_areas": null,
            "grid_template_columns": null,
            "grid_template_rows": null,
            "height": null,
            "justify_content": null,
            "justify_items": null,
            "left": null,
            "margin": null,
            "max_height": null,
            "max_width": null,
            "min_height": null,
            "min_width": null,
            "object_fit": null,
            "object_position": null,
            "order": null,
            "overflow": null,
            "overflow_x": null,
            "overflow_y": null,
            "padding": null,
            "right": null,
            "top": null,
            "visibility": null,
            "width": null
          }
        },
        "9cae5c82e484479982ba52a909c56076": {
          "model_module": "@jupyter-widgets/base",
          "model_name": "LayoutModel",
          "model_module_version": "1.2.0",
          "state": {
            "_model_module": "@jupyter-widgets/base",
            "_model_module_version": "1.2.0",
            "_model_name": "LayoutModel",
            "_view_count": null,
            "_view_module": "@jupyter-widgets/base",
            "_view_module_version": "1.2.0",
            "_view_name": "LayoutView",
            "align_content": null,
            "align_items": null,
            "align_self": null,
            "border": null,
            "bottom": null,
            "display": null,
            "flex": null,
            "flex_flow": null,
            "grid_area": null,
            "grid_auto_columns": null,
            "grid_auto_flow": null,
            "grid_auto_rows": null,
            "grid_column": null,
            "grid_gap": null,
            "grid_row": null,
            "grid_template_areas": null,
            "grid_template_columns": null,
            "grid_template_rows": null,
            "height": null,
            "justify_content": null,
            "justify_items": null,
            "left": null,
            "margin": null,
            "max_height": null,
            "max_width": null,
            "min_height": null,
            "min_width": null,
            "object_fit": null,
            "object_position": null,
            "order": null,
            "overflow": null,
            "overflow_x": null,
            "overflow_y": null,
            "padding": null,
            "right": null,
            "top": null,
            "visibility": null,
            "width": null
          }
        },
        "f7faf97b48ce4b5eb228eff6014fc2bb": {
          "model_module": "@jupyter-widgets/controls",
          "model_name": "DescriptionStyleModel",
          "model_module_version": "1.5.0",
          "state": {
            "_model_module": "@jupyter-widgets/controls",
            "_model_module_version": "1.5.0",
            "_model_name": "DescriptionStyleModel",
            "_view_count": null,
            "_view_module": "@jupyter-widgets/base",
            "_view_module_version": "1.2.0",
            "_view_name": "StyleView",
            "description_width": ""
          }
        },
        "5064e7acf4074e418ca476b1c0850de2": {
          "model_module": "@jupyter-widgets/base",
          "model_name": "LayoutModel",
          "model_module_version": "1.2.0",
          "state": {
            "_model_module": "@jupyter-widgets/base",
            "_model_module_version": "1.2.0",
            "_model_name": "LayoutModel",
            "_view_count": null,
            "_view_module": "@jupyter-widgets/base",
            "_view_module_version": "1.2.0",
            "_view_name": "LayoutView",
            "align_content": null,
            "align_items": null,
            "align_self": null,
            "border": null,
            "bottom": null,
            "display": null,
            "flex": null,
            "flex_flow": null,
            "grid_area": null,
            "grid_auto_columns": null,
            "grid_auto_flow": null,
            "grid_auto_rows": null,
            "grid_column": null,
            "grid_gap": null,
            "grid_row": null,
            "grid_template_areas": null,
            "grid_template_columns": null,
            "grid_template_rows": null,
            "height": null,
            "justify_content": null,
            "justify_items": null,
            "left": null,
            "margin": null,
            "max_height": null,
            "max_width": null,
            "min_height": null,
            "min_width": null,
            "object_fit": null,
            "object_position": null,
            "order": null,
            "overflow": null,
            "overflow_x": null,
            "overflow_y": null,
            "padding": null,
            "right": null,
            "top": null,
            "visibility": null,
            "width": null
          }
        },
        "2f4b2d57aef849acbab5a8f07c0af701": {
          "model_module": "@jupyter-widgets/controls",
          "model_name": "ProgressStyleModel",
          "model_module_version": "1.5.0",
          "state": {
            "_model_module": "@jupyter-widgets/controls",
            "_model_module_version": "1.5.0",
            "_model_name": "ProgressStyleModel",
            "_view_count": null,
            "_view_module": "@jupyter-widgets/base",
            "_view_module_version": "1.2.0",
            "_view_name": "StyleView",
            "bar_color": null,
            "description_width": ""
          }
        },
        "9b448608ce154beab722b39b2f563d9c": {
          "model_module": "@jupyter-widgets/base",
          "model_name": "LayoutModel",
          "model_module_version": "1.2.0",
          "state": {
            "_model_module": "@jupyter-widgets/base",
            "_model_module_version": "1.2.0",
            "_model_name": "LayoutModel",
            "_view_count": null,
            "_view_module": "@jupyter-widgets/base",
            "_view_module_version": "1.2.0",
            "_view_name": "LayoutView",
            "align_content": null,
            "align_items": null,
            "align_self": null,
            "border": null,
            "bottom": null,
            "display": null,
            "flex": null,
            "flex_flow": null,
            "grid_area": null,
            "grid_auto_columns": null,
            "grid_auto_flow": null,
            "grid_auto_rows": null,
            "grid_column": null,
            "grid_gap": null,
            "grid_row": null,
            "grid_template_areas": null,
            "grid_template_columns": null,
            "grid_template_rows": null,
            "height": null,
            "justify_content": null,
            "justify_items": null,
            "left": null,
            "margin": null,
            "max_height": null,
            "max_width": null,
            "min_height": null,
            "min_width": null,
            "object_fit": null,
            "object_position": null,
            "order": null,
            "overflow": null,
            "overflow_x": null,
            "overflow_y": null,
            "padding": null,
            "right": null,
            "top": null,
            "visibility": null,
            "width": null
          }
        },
        "1cfb3d0c810845f5a8780038ca607b6e": {
          "model_module": "@jupyter-widgets/controls",
          "model_name": "DescriptionStyleModel",
          "model_module_version": "1.5.0",
          "state": {
            "_model_module": "@jupyter-widgets/controls",
            "_model_module_version": "1.5.0",
            "_model_name": "DescriptionStyleModel",
            "_view_count": null,
            "_view_module": "@jupyter-widgets/base",
            "_view_module_version": "1.2.0",
            "_view_name": "StyleView",
            "description_width": ""
          }
        }
      }
    }
  },
  "nbformat": 4,
  "nbformat_minor": 0
}